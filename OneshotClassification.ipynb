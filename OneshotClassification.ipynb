{
 "cells": [
  {
   "cell_type": "code",
   "execution_count": null,
   "metadata": {},
   "outputs": [],
   "source": [
    "from transformers import pipeline\n",
    "from datasets import load_dataset"
   ]
  },
  {
   "cell_type": "code",
   "execution_count": 3,
   "metadata": {},
   "outputs": [
    {
     "name": "stdout",
     "output_type": "stream",
     "text": [
      "WARNING:tensorflow:From C:\\Users\\anachuri\\AppData\\Local\\Packages\\PythonSoftwareFoundation.Python.3.12_qbz5n2kfra8p0\\LocalCache\\local-packages\\Python312\\site-packages\\tf_keras\\src\\losses.py:2976: The name tf.losses.sparse_softmax_cross_entropy is deprecated. Please use tf.compat.v1.losses.sparse_softmax_cross_entropy instead.\n",
      "\n",
      "WARNING:tensorflow:From C:\\Users\\anachuri\\AppData\\Local\\Packages\\PythonSoftwareFoundation.Python.3.12_qbz5n2kfra8p0\\LocalCache\\local-packages\\Python312\\site-packages\\tf_keras\\src\\backend.py:873: The name tf.get_default_graph is deprecated. Please use tf.compat.v1.get_default_graph instead.\n",
      "\n"
     ]
    },
    {
     "name": "stderr",
     "output_type": "stream",
     "text": [
      "Some weights of the PyTorch model were not used when initializing the TF 2.0 model TFBartForSequenceClassification: ['model.encoder.version', 'model.decoder.version']\n",
      "- This IS expected if you are initializing TFBartForSequenceClassification from a PyTorch model trained on another task or with another architecture (e.g. initializing a TFBertForSequenceClassification model from a BertForPreTraining model).\n",
      "- This IS NOT expected if you are initializing TFBartForSequenceClassification from a PyTorch model that you expect to be exactly identical (e.g. initializing a TFBertForSequenceClassification model from a BertForSequenceClassification model).\n",
      "All the weights of TFBartForSequenceClassification were initialized from the PyTorch model.\n",
      "If your task is similar to the task the model of the checkpoint was trained on, you can already use TFBartForSequenceClassification for predictions without further training.\n"
     ]
    }
   ],
   "source": [
    "classifier = pipeline(\"zero-shot-classification\",\n",
    "                      model=\"facebook/bart-large-mnli\")"
   ]
  },
  {
   "cell_type": "code",
   "execution_count": 9,
   "metadata": {},
   "outputs": [
    {
     "name": "stdout",
     "output_type": "stream",
     "text": [
      "Sequence: one day I will see the world\n",
      "Predicted category: travel\n"
     ]
    }
   ],
   "source": [
    "sequence_to_classify = \"one day I will see the world\"\n",
    "candidate_labels = ['travel', 'cooking', 'dancing']\n",
    "prediction = classifier(sequence_to_classify, candidate_labels)\n",
    "\n",
    "# Get the predicted label with the highest score\n",
    "predicted_label = prediction['labels'][0]\n",
    "\n",
    "print(f\"Sequence: {sequence_to_classify}\")\n",
    "print(f\"Predicted category: {predicted_label}\")"
   ]
  },
  {
   "cell_type": "code",
   "execution_count": 11,
   "metadata": {},
   "outputs": [
    {
     "name": "stdout",
     "output_type": "stream",
     "text": [
      "Predicted sentiment: positive\n",
      "Sentiment confidence score: 0.9738269448280334\n"
     ]
    }
   ],
   "source": [
    "sequence_to_classify = \"CS 614 assignment is fun to work on\"\n",
    "candidate_labels = [\"positive\", \"negative\", \"neutral\"]\n",
    "\n",
    "# Use the classifier to predict the sentiment\n",
    "sentiment_prediction = classifier(sequence_to_classify, candidate_labels)\n",
    "\n",
    "# Print the predicted sentiment and its confidence score\n",
    "print(f\"Predicted sentiment: {sentiment_prediction['labels'][0]}\")\n",
    "print(f\"Sentiment confidence score: {sentiment_prediction['scores'][0]}\")"
   ]
  },
  {
   "cell_type": "code",
   "execution_count": 11,
   "metadata": {},
   "outputs": [
    {
     "name": "stderr",
     "output_type": "stream",
     "text": [
      "No model was supplied, defaulted to FacebookAI/roberta-large-mnli and revision 130fb28 (https://huggingface.co/FacebookAI/roberta-large-mnli).\n",
      "Using a pipeline without specifying a model name and revision in production is not recommended.\n",
      "All PyTorch model weights were used when initializing TFRobertaForSequenceClassification.\n",
      "\n",
      "All the weights of TFRobertaForSequenceClassification were initialized from the PyTorch model.\n",
      "If your task is similar to the task the model of the checkpoint was trained on, you can already use TFRobertaForSequenceClassification for predictions without further training.\n"
     ]
    },
    {
     "name": "stdout",
     "output_type": "stream",
     "text": [
      "Sequence: great service my family and i visited the porto sokhna hotel where the wonderful service and quick response from all the workers where we booked 3 rooms on the lake and the reception section took us to the sea without additional fees and we thanked mr. mohammed for the manager of the front offices and in general the food was good and the service is excellent from all the workers but the beach needs more expansion and attention.\n",
      "Predicted sentiment: positive\n",
      "Sentiment confidence score: 0.9462096691131592\n",
      "Predicted category: service\n",
      "Category confidence score: 0.349272221326828\n",
      "Sequence: great service my family and i visited the porto sokhna hotel where the wonderful service and quick response from all the workers where we booked 3 rooms on the lake and the reception section took us to the sea without additional fees and we thanked mr. mohammed for the manager of the front offices and in general the food was good and the service is excellent from all the workers but the beach needs more expansion and attention.\n",
      "Predicted sentiment: positive\n",
      "Sentiment confidence score: 0.9462096691131592\n",
      "Predicted category: service\n",
      "Category confidence score: 0.349272221326828\n",
      "Sequence: great service my family and i visited the porto sokhna hotel where the wonderful service and quick response from all the workers where we booked 3 rooms on the lake and the reception section took us to the sea without additional fees and we thanked mr. mohammed for the manager of the front offices and in general the food was good and the service is excellent from all the workers but the beach needs more expansion and attention.\n",
      "Predicted sentiment: positive\n",
      "Sentiment confidence score: 0.9462096691131592\n",
      "Predicted category: service\n",
      "Category confidence score: 0.349272221326828\n",
      "Sequence: resort hotel club 6 hurghada i booked online but when i arrived in hurghada no one knew the hotel because the name was different from what was on the internet\n",
      "Predicted sentiment: negative\n",
      "Sentiment confidence score: 0.854328989982605\n",
      "Predicted category: hotel\n",
      "Category confidence score: 0.36390992999076843\n",
      "Sequence: there are a total of 5 hotels and we got off in the last one. the air conditioner wasn't working and the mechanic came and fixed it, and it ran for two hours and then it broke down. it happened every night\n",
      "Predicted sentiment: negative\n",
      "Sentiment confidence score: 0.8964871764183044\n",
      "Predicted category: hotel\n",
      "Category confidence score: 0.5390800833702087\n",
      "Sequence: the service was good, the food wasn't bad, the beverage service was really good, except for the plastic cups.\n",
      "Predicted sentiment: positive\n",
      "Sentiment confidence score: 0.9002112150192261\n",
      "Predicted category: service\n",
      "Category confidence score: 0.7547135949134827\n",
      "Sequence: the service was good, the food wasn't bad, the beverage service was really good, except for the plastic cups.\n",
      "Predicted sentiment: positive\n",
      "Sentiment confidence score: 0.9002112150192261\n",
      "Predicted category: service\n",
      "Category confidence score: 0.7547135949134827\n",
      "Sequence: the service was good, the food wasn't bad, the beverage service was really good, except for the plastic cups.\n",
      "Predicted sentiment: positive\n",
      "Sentiment confidence score: 0.9002112150192261\n",
      "Predicted category: service\n",
      "Category confidence score: 0.7547135949134827\n",
      "Sequence: disgraceful hotel and staff\n",
      "Predicted sentiment: negative\n",
      "Sentiment confidence score: 0.9893425107002258\n",
      "Predicted category: hotel\n",
      "Category confidence score: 0.853333592414856\n",
      "Sequence: disgraceful hotel and staff\n",
      "Predicted sentiment: negative\n",
      "Sentiment confidence score: 0.9893425107002258\n",
      "Predicted category: hotel\n",
      "Category confidence score: 0.853333592414856\n"
     ]
    }
   ],
   "source": [
    "# Load the dataset\n",
    "dataset = load_dataset('eastwind/semeval-2016-absa-reviews-english-translated-stanford-alpaca')\n",
    "\n",
    "# Initialize the zero-shot classifier\n",
    "classifier = pipeline(\"zero-shot-classification\")\n",
    "\n",
    "# Define the candidate labels for sentiment and category\n",
    "sentiment_labels = [\"positive\", \"negative\", \"neutral\"]\n",
    "category_labels = [\"food\", \"service\", \"internet\",\"hotel\",\"rooms\",\"tratment\"] \n",
    "\n",
    "# Predicitng first 10 sequences in the dataset\n",
    "for sequence in dataset['train']['sentence'][:10]:\n",
    "    sentiment_prediction = classifier(sequence, sentiment_labels)\n",
    "    category_prediction = classifier(sequence, category_labels)\n",
    "    print(f\"Sequence: {sequence}\")\n",
    "    print(f\"Predicted sentiment: {sentiment_prediction['labels'][0]}\")\n",
    "    print(f\"Sentiment confidence score: {sentiment_prediction['scores'][0]}\")\n",
    "    print(f\"Predicted category: {category_prediction['labels'][0]}\")\n",
    "    print(f\"Category confidence score: {category_prediction['scores'][0]}\")"
   ]
  },
  {
   "cell_type": "markdown",
   "metadata": {},
   "source": [
    "## Single Label"
   ]
  },
  {
   "cell_type": "code",
   "execution_count": 5,
   "metadata": {},
   "outputs": [
    {
     "name": "stderr",
     "output_type": "stream",
     "text": [
      "No model was supplied, defaulted to FacebookAI/roberta-large-mnli and revision 130fb28 (https://huggingface.co/FacebookAI/roberta-large-mnli).\n",
      "Using a pipeline without specifying a model name and revision in production is not recommended.\n",
      "All PyTorch model weights were used when initializing TFRobertaForSequenceClassification.\n",
      "\n",
      "All the weights of TFRobertaForSequenceClassification were initialized from the PyTorch model.\n",
      "If your task is similar to the task the model of the checkpoint was trained on, you can already use TFRobertaForSequenceClassification for predictions without further training.\n"
     ]
    },
    {
     "name": "stdout",
     "output_type": "stream",
     "text": [
      "Sequence: great service my family and i visited the porto sokhna hotel where the wonderful service and quick response from all the workers where we booked 3 rooms on the lake and the reception section took us to the sea without additional fees and we thanked mr. mohammed for the manager of the front offices and in general the food was good and the service is excellent from all the workers but the beach needs more expansion and attention.\n",
      "Predicted sentiment: positive\n",
      "Actual sentiment: negative\n",
      "Sentiment confidence score: 0.9462096691131592\n",
      "Predicted category: HOTEL#QUALITY\n",
      "Actual category: FOOD_DRINKS#QUALITY\n",
      "Category confidence score: 0.07453253120183945\n",
      "Sequence: great service my family and i visited the porto sokhna hotel where the wonderful service and quick response from all the workers where we booked 3 rooms on the lake and the reception section took us to the sea without additional fees and we thanked mr. mohammed for the manager of the front offices and in general the food was good and the service is excellent from all the workers but the beach needs more expansion and attention.\n",
      "Predicted sentiment: positive\n",
      "Actual sentiment: positive\n",
      "Sentiment confidence score: 0.9462096691131592\n",
      "Predicted category: HOTEL#QUALITY\n",
      "Actual category: SERVICE#GENERAL\n",
      "Category confidence score: 0.07453253120183945\n",
      "Sequence: great service my family and i visited the porto sokhna hotel where the wonderful service and quick response from all the workers where we booked 3 rooms on the lake and the reception section took us to the sea without additional fees and we thanked mr. mohammed for the manager of the front offices and in general the food was good and the service is excellent from all the workers but the beach needs more expansion and attention.\n",
      "Predicted sentiment: positive\n",
      "Actual sentiment: negative\n",
      "Sentiment confidence score: 0.9462096691131592\n",
      "Predicted category: HOTEL#QUALITY\n",
      "Actual category: FACILITIES#GENERAL\n",
      "Category confidence score: 0.07453253120183945\n",
      "Sequence: resort hotel club 6 hurghada i booked online but when i arrived in hurghada no one knew the hotel because the name was different from what was on the internet\n",
      "Predicted sentiment: negative\n",
      "Actual sentiment: negative\n",
      "Sentiment confidence score: 0.854328989982605\n",
      "Predicted category: FACILITIES#COMFORT\n",
      "Actual category: FACILITIES#GENERAL\n",
      "Category confidence score: 0.06180141121149063\n",
      "Sequence: there are a total of 5 hotels and we got off in the last one. the air conditioner wasn't working and the mechanic came and fixed it, and it ran for two hours and then it broke down. it happened every night\n",
      "Predicted sentiment: negative\n",
      "Actual sentiment: neutral\n",
      "Sentiment confidence score: 0.8964871764183044\n",
      "Predicted category: FACILITIES#COMFORT\n",
      "Actual category: ROOMS_AMENITIES#QUALITY\n",
      "Category confidence score: 0.08397004753351212\n",
      "Sequence: the service was good, the food wasn't bad, the beverage service was really good, except for the plastic cups.\n",
      "Predicted sentiment: positive\n",
      "Actual sentiment: positive\n",
      "Sentiment confidence score: 0.9002112150192261\n",
      "Predicted category: FOOD_DRINKS#QUALITY\n",
      "Actual category: SERVICE#GENERAL\n",
      "Category confidence score: 0.08227641135454178\n",
      "Sequence: the service was good, the food wasn't bad, the beverage service was really good, except for the plastic cups.\n",
      "Predicted sentiment: positive\n",
      "Actual sentiment: neutral\n",
      "Sentiment confidence score: 0.9002112150192261\n",
      "Predicted category: FOOD_DRINKS#QUALITY\n",
      "Actual category: FOOD_DRINKS#QUALITY\n",
      "Category confidence score: 0.08227641135454178\n",
      "Sequence: the service was good, the food wasn't bad, the beverage service was really good, except for the plastic cups.\n",
      "Predicted sentiment: positive\n",
      "Actual sentiment: neutral\n",
      "Sentiment confidence score: 0.9002112150192261\n",
      "Predicted category: FOOD_DRINKS#QUALITY\n",
      "Actual category: FOOD_DRINKS#MISCELLANEOUS\n",
      "Category confidence score: 0.08227641135454178\n",
      "Sequence: disgraceful hotel and staff\n",
      "Predicted sentiment: negative\n",
      "Actual sentiment: negative\n",
      "Sentiment confidence score: 0.9893425107002258\n",
      "Predicted category: HOTEL#MISCELLANEOUS\n",
      "Actual category: HOTEL#GENERAL\n",
      "Category confidence score: 0.18678691983222961\n",
      "Sequence: disgraceful hotel and staff\n",
      "Predicted sentiment: negative\n",
      "Actual sentiment: negative\n",
      "Sentiment confidence score: 0.9893425107002258\n",
      "Predicted category: HOTEL#MISCELLANEOUS\n",
      "Actual category: SERVICE#GENERAL\n",
      "Category confidence score: 0.18678691983222961\n",
      "Sentiment accuracy: 0.5\n",
      "Category accuracy: 0.1\n"
     ]
    }
   ],
   "source": [
    "# Load the dataset\n",
    "dataset = load_dataset('eastwind/semeval-2016-absa-reviews-english-translated-stanford-alpaca')\n",
    "\n",
    "# Initialize the zero-shot classifier\n",
    "classifier = pipeline(\"zero-shot-classification\")\n",
    "\n",
    "# Define the candidate labels for sentiment and category\n",
    "sentiment_labels = [\"positive\", \"negative\", \"neutral\"]\n",
    "# Get the unique categories\n",
    "category_labels = list(set(dataset['train']['category']))\n",
    "\n",
    "# Initialize counters for the total number of examples and the number of correct predictions\n",
    "total = 0\n",
    "correct_sentiment = 0\n",
    "correct_category = 0\n",
    "\n",
    "# Use the model to predict the sentiment and category of the sequences in the dataset\n",
    "for sequence, true_sentiment, true_category in zip(dataset['train']['sentence'][:10], dataset['train']['sentiment'][:10], dataset['train']['category'][:10]):\n",
    "    sentiment_prediction = classifier(sequence, sentiment_labels)\n",
    "    category_prediction = classifier(sequence, category_labels)\n",
    "\n",
    "    print(f\"Sequence: {sequence}\")\n",
    "    print(f\"Predicted sentiment: {sentiment_prediction['labels'][0]}\")\n",
    "    print(f\"Actual sentiment: {true_sentiment}\")\n",
    "    print(f\"Sentiment confidence score: {sentiment_prediction['scores'][0]}\")\n",
    "    print(f\"Predicted category: {category_prediction['labels'][0]}\")\n",
    "    print(f\"Actual category: {true_category}\")\n",
    "    print(f\"Category confidence score: {category_prediction['scores'][0]}\")\n",
    "    \n",
    "    # Check if the predictions are correct\n",
    "    if sentiment_prediction['labels'][0] == true_sentiment:\n",
    "        correct_sentiment += 1\n",
    "    if category_prediction['labels'][0] == true_category:\n",
    "        correct_category += 1\n",
    "    total += 1\n",
    "\n",
    "# Calculate the accuracy for sentiment and category\n",
    "sentiment_accuracy = correct_sentiment / total\n",
    "category_accuracy = correct_category / total\n",
    "\n",
    "print(f\"Sentiment accuracy: {sentiment_accuracy}\")\n",
    "print(f\"Category accuracy: {category_accuracy}\")"
   ]
  },
  {
   "cell_type": "markdown",
   "metadata": {},
   "source": [
    "## Multi Label\n",
    "\n",
    "Given the model can predict more than one category in the given the dataset, it makes sense to turn the multi label prediction.\n",
    "The single prediction accuracy is not great given the predicted label is only one of the actual labels and is not the same the actual one"
   ]
  },
  {
   "cell_type": "code",
   "execution_count": 7,
   "metadata": {},
   "outputs": [
    {
     "name": "stderr",
     "output_type": "stream",
     "text": [
      "No model was supplied, defaulted to FacebookAI/roberta-large-mnli and revision 130fb28 (https://huggingface.co/FacebookAI/roberta-large-mnli).\n",
      "Using a pipeline without specifying a model name and revision in production is not recommended.\n",
      "All PyTorch model weights were used when initializing TFRobertaForSequenceClassification.\n",
      "\n",
      "All the weights of TFRobertaForSequenceClassification were initialized from the PyTorch model.\n",
      "If your task is similar to the task the model of the checkpoint was trained on, you can already use TFRobertaForSequenceClassification for predictions without further training.\n"
     ]
    },
    {
     "name": "stdout",
     "output_type": "stream",
     "text": [
      "Sequence: great service my family and i visited the porto sokhna hotel where the wonderful service and quick response from all the workers where we booked 3 rooms on the lake and the reception section took us to the sea without additional fees and we thanked mr. mohammed for the manager of the front offices and in general the food was good and the service is excellent from all the workers but the beach needs more expansion and attention.\n",
      "Predicted labels: ['positive', 'HOTEL#QUALITY', 'SERVICE#GENERAL', 'ROOMS#QUALITY', 'ROOMS_AMENITIES#QUALITY', 'FACILITIES#COMFORT', 'LOCATION#GENERAL', 'FACILITIES#QUALITY', 'ROOMS_AMENITIES#GENERAL', 'FACILITIES#GENERAL', 'ROOMS_AMENITIES#COMFORT', 'ROOMS#COMFORT', 'HOTEL#GENERAL', 'HOTEL#COMFORT', 'HOTEL#DESIGN_FEATURES', 'ROOMS#GENERAL', 'ROOMS_AMENITIES#PRICES', 'ROOMS_AMENITIES#CLEANLINESS', 'ROOMS#PRICES', 'neutral', 'FACILITIES#PRICES', 'FOOD_DRINKS#QUALITY', 'ROOMS_AMENITIES#DESIGN_FEATURES', 'ROOMS#DESIGN_FEATURES', 'HOTEL#PRICES', 'FOOD_DRINKS#STYLE_OPTIONS', 'HOTEL#CLEANLINESS', 'FACILITIES#CLEANLINESS', 'FACILITIES#DESIGN_FEATURES', 'ROOMS#CLEANLINESS', 'ROOMS#MISCELLANEOUS', 'FOOD_DRINKS#PRICES', 'ROOMS_AMENITIES#MISCELLANEOUS', 'FOOD_DRINKS#MISCELLANEOUS', 'FACILITIES#MISCELLANEOUS', 'HOTEL#MISCELLANEOUS', 'negative']\n",
      "Actual sentiment: negative\n",
      "Actual category: FOOD_DRINKS#QUALITY\n",
      "Sentiment confidence score: 0.9893425107002258\n",
      "Category confidence score: 0.18678691983222961\n",
      "Sequence: great service my family and i visited the porto sokhna hotel where the wonderful service and quick response from all the workers where we booked 3 rooms on the lake and the reception section took us to the sea without additional fees and we thanked mr. mohammed for the manager of the front offices and in general the food was good and the service is excellent from all the workers but the beach needs more expansion and attention.\n",
      "Predicted labels: ['positive', 'HOTEL#QUALITY', 'SERVICE#GENERAL', 'ROOMS#QUALITY', 'ROOMS_AMENITIES#QUALITY', 'FACILITIES#COMFORT', 'LOCATION#GENERAL', 'FACILITIES#QUALITY', 'ROOMS_AMENITIES#GENERAL', 'FACILITIES#GENERAL', 'ROOMS_AMENITIES#COMFORT', 'ROOMS#COMFORT', 'HOTEL#GENERAL', 'HOTEL#COMFORT', 'HOTEL#DESIGN_FEATURES', 'ROOMS#GENERAL', 'ROOMS_AMENITIES#PRICES', 'ROOMS_AMENITIES#CLEANLINESS', 'ROOMS#PRICES', 'neutral', 'FACILITIES#PRICES', 'FOOD_DRINKS#QUALITY', 'ROOMS_AMENITIES#DESIGN_FEATURES', 'ROOMS#DESIGN_FEATURES', 'HOTEL#PRICES', 'FOOD_DRINKS#STYLE_OPTIONS', 'HOTEL#CLEANLINESS', 'FACILITIES#CLEANLINESS', 'FACILITIES#DESIGN_FEATURES', 'ROOMS#CLEANLINESS', 'ROOMS#MISCELLANEOUS', 'FOOD_DRINKS#PRICES', 'ROOMS_AMENITIES#MISCELLANEOUS', 'FOOD_DRINKS#MISCELLANEOUS', 'FACILITIES#MISCELLANEOUS', 'HOTEL#MISCELLANEOUS', 'negative']\n",
      "Actual sentiment: positive\n",
      "Actual category: SERVICE#GENERAL\n",
      "Sentiment confidence score: 0.9893425107002258\n",
      "Category confidence score: 0.18678691983222961\n",
      "Sequence: great service my family and i visited the porto sokhna hotel where the wonderful service and quick response from all the workers where we booked 3 rooms on the lake and the reception section took us to the sea without additional fees and we thanked mr. mohammed for the manager of the front offices and in general the food was good and the service is excellent from all the workers but the beach needs more expansion and attention.\n",
      "Predicted labels: ['positive', 'HOTEL#QUALITY', 'SERVICE#GENERAL', 'ROOMS#QUALITY', 'ROOMS_AMENITIES#QUALITY', 'FACILITIES#COMFORT', 'LOCATION#GENERAL', 'FACILITIES#QUALITY', 'ROOMS_AMENITIES#GENERAL', 'FACILITIES#GENERAL', 'ROOMS_AMENITIES#COMFORT', 'ROOMS#COMFORT', 'HOTEL#GENERAL', 'HOTEL#COMFORT', 'HOTEL#DESIGN_FEATURES', 'ROOMS#GENERAL', 'ROOMS_AMENITIES#PRICES', 'ROOMS_AMENITIES#CLEANLINESS', 'ROOMS#PRICES', 'neutral', 'FACILITIES#PRICES', 'FOOD_DRINKS#QUALITY', 'ROOMS_AMENITIES#DESIGN_FEATURES', 'ROOMS#DESIGN_FEATURES', 'HOTEL#PRICES', 'FOOD_DRINKS#STYLE_OPTIONS', 'HOTEL#CLEANLINESS', 'FACILITIES#CLEANLINESS', 'FACILITIES#DESIGN_FEATURES', 'ROOMS#CLEANLINESS', 'ROOMS#MISCELLANEOUS', 'FOOD_DRINKS#PRICES', 'ROOMS_AMENITIES#MISCELLANEOUS', 'FOOD_DRINKS#MISCELLANEOUS', 'FACILITIES#MISCELLANEOUS', 'HOTEL#MISCELLANEOUS', 'negative']\n",
      "Actual sentiment: negative\n",
      "Actual category: FACILITIES#GENERAL\n",
      "Sentiment confidence score: 0.9893425107002258\n",
      "Category confidence score: 0.18678691983222961\n",
      "Sequence: resort hotel club 6 hurghada i booked online but when i arrived in hurghada no one knew the hotel because the name was different from what was on the internet\n",
      "Predicted labels: ['negative', 'FACILITIES#COMFORT', 'ROOMS#COMFORT', 'HOTEL#COMFORT', 'LOCATION#GENERAL', 'ROOMS#MISCELLANEOUS', 'ROOMS_AMENITIES#COMFORT', 'ROOMS#QUALITY', 'ROOMS_AMENITIES#MISCELLANEOUS', 'HOTEL#MISCELLANEOUS', 'FACILITIES#MISCELLANEOUS', 'ROOMS_AMENITIES#QUALITY', 'ROOMS#GENERAL', 'ROOMS#DESIGN_FEATURES', 'ROOMS_AMENITIES#GENERAL', 'HOTEL#QUALITY', 'ROOMS#PRICES', 'HOTEL#DESIGN_FEATURES', 'FACILITIES#GENERAL', 'FACILITIES#QUALITY', 'ROOMS_AMENITIES#PRICES', 'HOTEL#PRICES', 'ROOMS_AMENITIES#DESIGN_FEATURES', 'HOTEL#GENERAL', 'SERVICE#GENERAL', 'FACILITIES#CLEANLINESS', 'FACILITIES#PRICES', 'FACILITIES#DESIGN_FEATURES', 'ROOMS_AMENITIES#CLEANLINESS', 'ROOMS#CLEANLINESS', 'HOTEL#CLEANLINESS', 'FOOD_DRINKS#MISCELLANEOUS', 'FOOD_DRINKS#QUALITY', 'neutral', 'FOOD_DRINKS#PRICES', 'FOOD_DRINKS#STYLE_OPTIONS', 'positive']\n",
      "Actual sentiment: negative\n",
      "Actual category: FACILITIES#GENERAL\n",
      "Sentiment confidence score: 0.9893425107002258\n",
      "Category confidence score: 0.18678691983222961\n",
      "Sequence: there are a total of 5 hotels and we got off in the last one. the air conditioner wasn't working and the mechanic came and fixed it, and it ran for two hours and then it broke down. it happened every night\n",
      "Predicted labels: ['negative', 'FACILITIES#COMFORT', 'FACILITIES#GENERAL', 'FACILITIES#MISCELLANEOUS', 'LOCATION#GENERAL', 'SERVICE#GENERAL', 'ROOMS_AMENITIES#COMFORT', 'HOTEL#MISCELLANEOUS', 'ROOMS#MISCELLANEOUS', 'neutral', 'ROOMS_AMENITIES#MISCELLANEOUS', 'ROOMS_AMENITIES#QUALITY', 'ROOMS#QUALITY', 'FACILITIES#QUALITY', 'ROOMS_AMENITIES#GENERAL', 'HOTEL#DESIGN_FEATURES', 'ROOMS#DESIGN_FEATURES', 'HOTEL#COMFORT', 'FACILITIES#CLEANLINESS', 'ROOMS_AMENITIES#DESIGN_FEATURES', 'ROOMS#COMFORT', 'HOTEL#QUALITY', 'FACILITIES#PRICES', 'ROOMS_AMENITIES#CLEANLINESS', 'HOTEL#CLEANLINESS', 'ROOMS#PRICES', 'HOTEL#GENERAL', 'FACILITIES#DESIGN_FEATURES', 'ROOMS_AMENITIES#PRICES', 'ROOMS#GENERAL', 'ROOMS#CLEANLINESS', 'HOTEL#PRICES', 'FOOD_DRINKS#MISCELLANEOUS', 'FOOD_DRINKS#QUALITY', 'FOOD_DRINKS#STYLE_OPTIONS', 'FOOD_DRINKS#PRICES', 'positive']\n",
      "Actual sentiment: neutral\n",
      "Actual category: ROOMS_AMENITIES#QUALITY\n",
      "Sentiment confidence score: 0.9893425107002258\n",
      "Category confidence score: 0.18678691983222961\n",
      "Sequence: the service was good, the food wasn't bad, the beverage service was really good, except for the plastic cups.\n",
      "Predicted labels: ['positive', 'neutral', 'FOOD_DRINKS#QUALITY', 'FOOD_DRINKS#STYLE_OPTIONS', 'SERVICE#GENERAL', 'HOTEL#QUALITY', 'FACILITIES#QUALITY', 'ROOMS#QUALITY', 'FACILITIES#COMFORT', 'ROOMS_AMENITIES#QUALITY', 'FACILITIES#GENERAL', 'ROOMS#COMFORT', 'FOOD_DRINKS#PRICES', 'ROOMS_AMENITIES#COMFORT', 'ROOMS_AMENITIES#GENERAL', 'HOTEL#COMFORT', 'FACILITIES#CLEANLINESS', 'FOOD_DRINKS#MISCELLANEOUS', 'ROOMS_AMENITIES#CLEANLINESS', 'HOTEL#CLEANLINESS', 'ROOMS#MISCELLANEOUS', 'LOCATION#GENERAL', 'ROOMS#GENERAL', 'HOTEL#GENERAL', 'HOTEL#MISCELLANEOUS', 'ROOMS#CLEANLINESS', 'FACILITIES#MISCELLANEOUS', 'HOTEL#DESIGN_FEATURES', 'ROOMS#DESIGN_FEATURES', 'FACILITIES#PRICES', 'ROOMS_AMENITIES#MISCELLANEOUS', 'ROOMS_AMENITIES#PRICES', 'ROOMS_AMENITIES#DESIGN_FEATURES', 'ROOMS#PRICES', 'FACILITIES#DESIGN_FEATURES', 'HOTEL#PRICES', 'negative']\n",
      "Actual sentiment: positive\n",
      "Actual category: SERVICE#GENERAL\n",
      "Sentiment confidence score: 0.9893425107002258\n",
      "Category confidence score: 0.18678691983222961\n",
      "Sequence: the service was good, the food wasn't bad, the beverage service was really good, except for the plastic cups.\n",
      "Predicted labels: ['positive', 'neutral', 'FOOD_DRINKS#QUALITY', 'FOOD_DRINKS#STYLE_OPTIONS', 'SERVICE#GENERAL', 'HOTEL#QUALITY', 'FACILITIES#QUALITY', 'ROOMS#QUALITY', 'FACILITIES#COMFORT', 'ROOMS_AMENITIES#QUALITY', 'FACILITIES#GENERAL', 'ROOMS#COMFORT', 'FOOD_DRINKS#PRICES', 'ROOMS_AMENITIES#COMFORT', 'ROOMS_AMENITIES#GENERAL', 'HOTEL#COMFORT', 'FACILITIES#CLEANLINESS', 'FOOD_DRINKS#MISCELLANEOUS', 'ROOMS_AMENITIES#CLEANLINESS', 'HOTEL#CLEANLINESS', 'ROOMS#MISCELLANEOUS', 'LOCATION#GENERAL', 'ROOMS#GENERAL', 'HOTEL#GENERAL', 'HOTEL#MISCELLANEOUS', 'ROOMS#CLEANLINESS', 'FACILITIES#MISCELLANEOUS', 'HOTEL#DESIGN_FEATURES', 'ROOMS#DESIGN_FEATURES', 'FACILITIES#PRICES', 'ROOMS_AMENITIES#MISCELLANEOUS', 'ROOMS_AMENITIES#PRICES', 'ROOMS_AMENITIES#DESIGN_FEATURES', 'ROOMS#PRICES', 'FACILITIES#DESIGN_FEATURES', 'HOTEL#PRICES', 'negative']\n",
      "Actual sentiment: neutral\n",
      "Actual category: FOOD_DRINKS#QUALITY\n",
      "Sentiment confidence score: 0.9893425107002258\n",
      "Category confidence score: 0.18678691983222961\n",
      "Sequence: the service was good, the food wasn't bad, the beverage service was really good, except for the plastic cups.\n",
      "Predicted labels: ['positive', 'neutral', 'FOOD_DRINKS#QUALITY', 'FOOD_DRINKS#STYLE_OPTIONS', 'SERVICE#GENERAL', 'HOTEL#QUALITY', 'FACILITIES#QUALITY', 'ROOMS#QUALITY', 'FACILITIES#COMFORT', 'ROOMS_AMENITIES#QUALITY', 'FACILITIES#GENERAL', 'ROOMS#COMFORT', 'FOOD_DRINKS#PRICES', 'ROOMS_AMENITIES#COMFORT', 'ROOMS_AMENITIES#GENERAL', 'HOTEL#COMFORT', 'FACILITIES#CLEANLINESS', 'FOOD_DRINKS#MISCELLANEOUS', 'ROOMS_AMENITIES#CLEANLINESS', 'HOTEL#CLEANLINESS', 'ROOMS#MISCELLANEOUS', 'LOCATION#GENERAL', 'ROOMS#GENERAL', 'HOTEL#GENERAL', 'HOTEL#MISCELLANEOUS', 'ROOMS#CLEANLINESS', 'FACILITIES#MISCELLANEOUS', 'HOTEL#DESIGN_FEATURES', 'ROOMS#DESIGN_FEATURES', 'FACILITIES#PRICES', 'ROOMS_AMENITIES#MISCELLANEOUS', 'ROOMS_AMENITIES#PRICES', 'ROOMS_AMENITIES#DESIGN_FEATURES', 'ROOMS#PRICES', 'FACILITIES#DESIGN_FEATURES', 'HOTEL#PRICES', 'negative']\n",
      "Actual sentiment: neutral\n",
      "Actual category: FOOD_DRINKS#MISCELLANEOUS\n",
      "Sentiment confidence score: 0.9893425107002258\n",
      "Category confidence score: 0.18678691983222961\n",
      "Sequence: disgraceful hotel and staff\n",
      "Predicted labels: ['negative', 'HOTEL#MISCELLANEOUS', 'FACILITIES#MISCELLANEOUS', 'ROOMS#MISCELLANEOUS', 'HOTEL#GENERAL', 'LOCATION#GENERAL', 'ROOMS_AMENITIES#MISCELLANEOUS', 'FACILITIES#COMFORT', 'FACILITIES#GENERAL', 'HOTEL#CLEANLINESS', 'SERVICE#GENERAL', 'HOTEL#QUALITY', 'FACILITIES#QUALITY', 'FACILITIES#PRICES', 'HOTEL#COMFORT', 'HOTEL#PRICES', 'ROOMS#COMFORT', 'ROOMS#QUALITY', 'HOTEL#DESIGN_FEATURES', 'ROOMS#GENERAL', 'ROOMS_AMENITIES#GENERAL', 'FACILITIES#CLEANLINESS', 'ROOMS_AMENITIES#COMFORT', 'FACILITIES#DESIGN_FEATURES', 'ROOMS#CLEANLINESS', 'ROOMS#DESIGN_FEATURES', 'ROOMS#PRICES', 'ROOMS_AMENITIES#CLEANLINESS', 'FOOD_DRINKS#MISCELLANEOUS', 'ROOMS_AMENITIES#QUALITY', 'FOOD_DRINKS#PRICES', 'FOOD_DRINKS#QUALITY', 'ROOMS_AMENITIES#DESIGN_FEATURES', 'ROOMS_AMENITIES#PRICES', 'FOOD_DRINKS#STYLE_OPTIONS', 'neutral', 'positive']\n",
      "Actual sentiment: negative\n",
      "Actual category: HOTEL#GENERAL\n",
      "Sentiment confidence score: 0.9893425107002258\n",
      "Category confidence score: 0.18678691983222961\n",
      "Sequence: disgraceful hotel and staff\n",
      "Predicted labels: ['negative', 'HOTEL#MISCELLANEOUS', 'FACILITIES#MISCELLANEOUS', 'ROOMS#MISCELLANEOUS', 'HOTEL#GENERAL', 'LOCATION#GENERAL', 'ROOMS_AMENITIES#MISCELLANEOUS', 'FACILITIES#COMFORT', 'FACILITIES#GENERAL', 'HOTEL#CLEANLINESS', 'SERVICE#GENERAL', 'HOTEL#QUALITY', 'FACILITIES#QUALITY', 'FACILITIES#PRICES', 'HOTEL#COMFORT', 'HOTEL#PRICES', 'ROOMS#COMFORT', 'ROOMS#QUALITY', 'HOTEL#DESIGN_FEATURES', 'ROOMS#GENERAL', 'ROOMS_AMENITIES#GENERAL', 'FACILITIES#CLEANLINESS', 'ROOMS_AMENITIES#COMFORT', 'FACILITIES#DESIGN_FEATURES', 'ROOMS#CLEANLINESS', 'ROOMS#DESIGN_FEATURES', 'ROOMS#PRICES', 'ROOMS_AMENITIES#CLEANLINESS', 'FOOD_DRINKS#MISCELLANEOUS', 'ROOMS_AMENITIES#QUALITY', 'FOOD_DRINKS#PRICES', 'FOOD_DRINKS#QUALITY', 'ROOMS_AMENITIES#DESIGN_FEATURES', 'ROOMS_AMENITIES#PRICES', 'FOOD_DRINKS#STYLE_OPTIONS', 'neutral', 'positive']\n",
      "Actual sentiment: negative\n",
      "Actual category: SERVICE#GENERAL\n",
      "Sentiment confidence score: 0.9893425107002258\n",
      "Category confidence score: 0.18678691983222961\n",
      "Accuracy: 1.0\n"
     ]
    }
   ],
   "source": [
    "# Load the dataset\n",
    "dataset = load_dataset('eastwind/semeval-2016-absa-reviews-english-translated-stanford-alpaca')\n",
    "\n",
    "# Initialize the zero-shot classifier\n",
    "classifier = pipeline(\"zero-shot-classification\")\n",
    "\n",
    "# Define the candidate labels for sentiment and category\n",
    "sentiment_labels = [\"positive\", \"negative\", \"neutral\"]\n",
    "# Get the unique categories\n",
    "category_labels = list(set(dataset['train']['category']))\n",
    "\n",
    "# Combine the sentiment and category labels into a single list of candidate labels\n",
    "candidate_labels = sentiment_labels + category_labels\n",
    "\n",
    "# Initialize counters for the total number of examples and the number of correct predictions\n",
    "total = 0\n",
    "correct = 0\n",
    "\n",
    "# Use the model to predict the sentiment and category of the sequences in the dataset\n",
    "for sequence, true_sentiment, true_category in zip(dataset['train']['sentence'][:10], dataset['train']['sentiment'][:10], dataset['train']['category'][:10]):\n",
    "    prediction = classifier(sequence, candidate_labels)\n",
    "    \n",
    "    # Get the predicted labels\n",
    "    predicted_labels = [label for label, score in zip(prediction['labels'], prediction['scores']) ]\n",
    "\n",
    "    print(f\"Sequence: {sequence}\")\n",
    "    print(f\"Predicted labels: {predicted_labels}\")\n",
    "    print(f\"Actual sentiment: {true_sentiment}\")\n",
    "    print(f\"Actual category: {true_category}\")\n",
    "    print(f\"Sentiment confidence score: {sentiment_prediction['scores'][0]}\")\n",
    "    print(f\"Category confidence score: {category_prediction['scores'][0]}\")\n",
    "\n",
    "    # Check if the predicted labels include the true sentiment and category\n",
    "    if true_sentiment in predicted_labels and true_category in predicted_labels:\n",
    "        correct += 1\n",
    "    total += 1\n",
    "\n",
    "# Calculate the accuracy\n",
    "accuracy = correct / total\n",
    "\n",
    "print(f\"Accuracy: {accuracy}\")"
   ]
  }
 ],
 "metadata": {
  "kernelspec": {
   "display_name": "Python 3",
   "language": "python",
   "name": "python3"
  },
  "language_info": {
   "codemirror_mode": {
    "name": "ipython",
    "version": 3
   },
   "file_extension": ".py",
   "mimetype": "text/x-python",
   "name": "python",
   "nbconvert_exporter": "python",
   "pygments_lexer": "ipython3",
   "version": "3.12.4"
  }
 },
 "nbformat": 4,
 "nbformat_minor": 2
}
